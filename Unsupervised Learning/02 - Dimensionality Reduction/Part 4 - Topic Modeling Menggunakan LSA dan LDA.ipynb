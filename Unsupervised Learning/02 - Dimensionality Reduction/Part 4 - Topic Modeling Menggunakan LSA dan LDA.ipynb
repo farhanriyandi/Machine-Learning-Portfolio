{
 "cells": [
  {
   "cell_type": "code",
   "execution_count": 1,
   "id": "8a8d2545",
   "metadata": {},
   "outputs": [],
   "source": [
    "import pandas as pd\n",
    "\n",
    "from nltk.tokenize import word_tokenize\n",
    "from nltk.corpus import stopwords\n",
    "from string import punctuation\n",
    "\n",
    "sw_indo = stopwords.words(\"indonesian\") + list(punctuation)"
   ]
  },
  {
   "cell_type": "markdown",
   "id": "8b7f8c62",
   "metadata": {},
   "source": [
    "# Import Data"
   ]
  },
  {
   "cell_type": "code",
   "execution_count": 3,
   "id": "1d4a6c70",
   "metadata": {},
   "outputs": [
    {
     "data": {
      "text/html": [
       "<div>\n",
       "<style scoped>\n",
       "    .dataframe tbody tr th:only-of-type {\n",
       "        vertical-align: middle;\n",
       "    }\n",
       "\n",
       "    .dataframe tbody tr th {\n",
       "        vertical-align: top;\n",
       "    }\n",
       "\n",
       "    .dataframe thead th {\n",
       "        text-align: right;\n",
       "    }\n",
       "</style>\n",
       "<table border=\"1\" class=\"dataframe\">\n",
       "  <thead>\n",
       "    <tr style=\"text-align: right;\">\n",
       "      <th></th>\n",
       "      <th>teks</th>\n",
       "    </tr>\n",
       "  </thead>\n",
       "  <tbody>\n",
       "    <tr>\n",
       "      <th>0</th>\n",
       "      <td>Ginandjar Tetap Ditahan. Jaksa Agung Dilaporka...</td>\n",
       "    </tr>\n",
       "    <tr>\n",
       "      <th>1</th>\n",
       "      <td>Jakarta Dikangkangi Para Preman\\nKALAU tak pun...</td>\n",
       "    </tr>\n",
       "    <tr>\n",
       "      <th>2</th>\n",
       "      <td>Penyimpangan di Setpres Seolah Terjadi Sekaran...</td>\n",
       "    </tr>\n",
       "    <tr>\n",
       "      <th>3</th>\n",
       "      <td>Dibayarkan, Rapel Kenaikan Gaji Pegawai Pos\\nK...</td>\n",
       "    </tr>\n",
       "    <tr>\n",
       "      <th>4</th>\n",
       "      <td>Stop Kekerasan, Elite agar Duduk Bersama\\nSeju...</td>\n",
       "    </tr>\n",
       "  </tbody>\n",
       "</table>\n",
       "</div>"
      ],
      "text/plain": [
       "                                                teks\n",
       "0  Ginandjar Tetap Ditahan. Jaksa Agung Dilaporka...\n",
       "1  Jakarta Dikangkangi Para Preman\\nKALAU tak pun...\n",
       "2  Penyimpangan di Setpres Seolah Terjadi Sekaran...\n",
       "3  Dibayarkan, Rapel Kenaikan Gaji Pegawai Pos\\nK...\n",
       "4  Stop Kekerasan, Elite agar Duduk Bersama\\nSeju..."
      ]
     },
     "execution_count": 3,
     "metadata": {},
     "output_type": "execute_result"
    }
   ],
   "source": [
    "df = pd.read_csv(\"data/kompas.csv\")\n",
    "df.head()"
   ]
  },
  {
   "cell_type": "markdown",
   "id": "6ee828f0",
   "metadata": {},
   "source": [
    "# Extract BoW"
   ]
  },
  {
   "cell_type": "code",
   "execution_count": 5,
   "id": "3c6a762d",
   "metadata": {},
   "outputs": [],
   "source": [
    "from sklearn.feature_extraction.text import CountVectorizer # encoding dengan cara countVector"
   ]
  },
  {
   "cell_type": "code",
   "execution_count": 9,
   "id": "9314f503",
   "metadata": {},
   "outputs": [
    {
     "name": "stderr",
     "output_type": "stream",
     "text": [
      "E:\\anaconda3\\envs\\jcopdl\\lib\\site-packages\\sklearn\\feature_extraction\\text.py:396: UserWarning: Your stop_words may be inconsistent with your preprocessing. Tokenizing the stop words generated tokens ['``'] not in stop_words.\n",
      "  warnings.warn(\n"
     ]
    }
   ],
   "source": [
    "bow = CountVectorizer(ngram_range=(1, 2), tokenizer=word_tokenize, stop_words=sw_indo, min_df=5) # gakharus sw indo, sebaiknya list manual\n",
    "bow_matrix = bow.fit_transform(df.teks)"
   ]
  },
  {
   "cell_type": "markdown",
   "id": "4baad999",
   "metadata": {},
   "source": [
    "# Topic Modeling"
   ]
  },
  {
   "cell_type": "code",
   "execution_count": 10,
   "id": "7bf8c5b1",
   "metadata": {},
   "outputs": [
    {
     "name": "stderr",
     "output_type": "stream",
     "text": [
      "E:\\anaconda3\\envs\\jcopdl\\lib\\site-packages\\sklearn\\utils\\deprecation.py:87: FutureWarning: Function get_feature_names is deprecated; get_feature_names is deprecated in 1.0 and will be removed in 1.2. Please use get_feature_names_out instead.\n",
      "  warnings.warn(msg, category=FutureWarning)\n"
     ]
    }
   ],
   "source": [
    "vocab = bow.get_feature_names() #seluruh vocabulary"
   ]
  },
  {
   "cell_type": "markdown",
   "id": "c3c80f80",
   "metadata": {},
   "source": [
    "## Latent Semantic Analysis (LSA) "
   ]
  },
  {
   "cell_type": "code",
   "execution_count": 12,
   "id": "d258fdd6",
   "metadata": {},
   "outputs": [
    {
     "data": {
      "text/plain": [
       "25134"
      ]
     },
     "execution_count": 12,
     "metadata": {},
     "output_type": "execute_result"
    }
   ],
   "source": [
    "len(vocab)"
   ]
  },
  {
   "cell_type": "code",
   "execution_count": 13,
   "id": "eda9f31e",
   "metadata": {},
   "outputs": [],
   "source": [
    "from sklearn.decomposition import TruncatedSVD"
   ]
  },
  {
   "cell_type": "code",
   "execution_count": 15,
   "id": "476eca35",
   "metadata": {},
   "outputs": [],
   "source": [
    "lsa = TruncatedSVD(n_components=10, n_iter=10, random_state=42) # n_components jumlah topik\n",
    "lsa_matrix = lsa.fit_transform(bow_matrix) # bow matrix di reduce oleh lsa"
   ]
  },
  {
   "cell_type": "markdown",
   "id": "42862863",
   "metadata": {},
   "source": [
    "keluaran setelah dekomposisi adalah weight / code "
   ]
  },
  {
   "cell_type": "code",
   "execution_count": 17,
   "id": "e192bc21",
   "metadata": {},
   "outputs": [
    {
     "name": "stdout",
     "output_type": "stream",
     "text": [
      "(2008, 25134)\n",
      "(2008, 10)\n",
      "(10, 25134)\n"
     ]
    }
   ],
   "source": [
    "print(bow_matrix.shape) # hidden \n",
    "print(lsa_matrix.shape) # weight / code\n",
    "print(lsa.components_.shape) # fitur / topic"
   ]
  },
  {
   "cell_type": "code",
   "execution_count": 19,
   "id": "d75e4a6b",
   "metadata": {},
   "outputs": [],
   "source": [
    "def get_topic(model):\n",
    "    return [[vocab[idx] for idx in reversed(comp.argsort()[-6:]) if vocab[idx].isalnum()]\n",
    "           for comp in model.components_] # komponen di looping "
   ]
  },
  {
   "cell_type": "markdown",
   "id": "333f8452",
   "metadata": {},
   "source": [
    "catatan\n",
    "\n",
    "- for comp in model.components_ # komponen di looping\n",
    "\n",
    "- comp.argsort()[-6:] # komponen value yang paling besar asumsi kata2 atau vocab yang penting\n",
    "- [vocab[idx]  ditranslate jadi tulisan / baca vocab "
   ]
  },
  {
   "cell_type": "code",
   "execution_count": 21,
   "id": "0364f253",
   "metadata": {},
   "outputs": [
    {
     "data": {
      "text/plain": [
       "[['presiden', 'indonesia', 'pemerintah', 'dpr'],\n",
       " ['presiden', 'dpr', 'ketua', 'partai', 'mpr', 'tandjung'],\n",
       " ['pemerintah', 'rp', 'indonesia', 'bank', 'persen', 'utang'],\n",
       " ['rp', 'tandjung', 'dana', 'bulog', 'hukum', 'harga'],\n",
       " ['presiden', 'air', 'banjir', 'harga', 'rp', 'dpr'],\n",
       " ['harga', 'beras', 'rp', 'bbm'],\n",
       " ['mpr', 'konstitusi', 'bppn', 'uud'],\n",
       " ['indonesia', 'mpr', 'konstitusi', 'uud', 'perubahan', '1945'],\n",
       " ['pemerintah', 'dpr', 'israel', 'bppn', 'kota', 'aceh'],\n",
       " ['massa', 'rupiah', 'bunga', 'mpr', 'bank', 'suku']]"
      ]
     },
     "execution_count": 21,
     "metadata": {},
     "output_type": "execute_result"
    }
   ],
   "source": [
    "get_topic(lsa)"
   ]
  },
  {
   "cell_type": "markdown",
   "id": "cf8f5180",
   "metadata": {},
   "source": [
    "## Latent Dirichlet Allocation (LDA) "
   ]
  },
  {
   "cell_type": "markdown",
   "id": "7c13953e",
   "metadata": {},
   "source": [
    "teknik yang probabilistik"
   ]
  },
  {
   "cell_type": "code",
   "execution_count": 22,
   "id": "3a9cd9ef",
   "metadata": {},
   "outputs": [],
   "source": [
    "from sklearn.decomposition import LatentDirichletAllocation"
   ]
  },
  {
   "cell_type": "code",
   "execution_count": 24,
   "id": "775e996d",
   "metadata": {},
   "outputs": [],
   "source": [
    "lda = LatentDirichletAllocation(n_components=10, max_iter=10, random_state=42)\n",
    "lda_matrix = lda.fit_transform(bow_matrix)"
   ]
  },
  {
   "cell_type": "code",
   "execution_count": 25,
   "id": "71327703",
   "metadata": {},
   "outputs": [
    {
     "data": {
      "text/plain": [
       "[['tandjung', 'dpr', 'hukum', 'ketua'],\n",
       " ['bank', 'indonesia', 'pemerintah', 'ekonomi'],\n",
       " ['pesawat', 'orang', 'rumah', 'korban'],\n",
       " ['banjir', 'air', 'warga', 'jakarta', 'jalan'],\n",
       " ['tni', 'hukum', 'ginandjar', 'tim'],\n",
       " ['rp', 'pemerintah', 'harga', 'bppn'],\n",
       " ['indonesia', 'as', 'pemerintah', 'aceh'],\n",
       " ['presiden', 'dpr', 'politik', 'ketua'],\n",
       " ['daerah', 'indonesia', 'masyarakat', 'maluku'],\n",
       " ['polisi', 'kepala', 'jakarta', 'orang']]"
      ]
     },
     "execution_count": 25,
     "metadata": {},
     "output_type": "execute_result"
    }
   ],
   "source": [
    "get_topic(lda)"
   ]
  },
  {
   "cell_type": "markdown",
   "id": "e89fbd72",
   "metadata": {},
   "source": [
    "unsupervise kita yang menyimpulkan, mesin hanya mencari pola"
   ]
  },
  {
   "cell_type": "code",
   "execution_count": null,
   "id": "c30a45df",
   "metadata": {},
   "outputs": [],
   "source": []
  },
  {
   "cell_type": "code",
   "execution_count": null,
   "id": "2334e208",
   "metadata": {},
   "outputs": [],
   "source": []
  }
 ],
 "metadata": {
  "kernelspec": {
   "display_name": "Python [conda env:jcopdl]",
   "language": "python",
   "name": "conda-env-jcopdl-py"
  },
  "language_info": {
   "codemirror_mode": {
    "name": "ipython",
    "version": 3
   },
   "file_extension": ".py",
   "mimetype": "text/x-python",
   "name": "python",
   "nbconvert_exporter": "python",
   "pygments_lexer": "ipython3",
   "version": "3.9.0"
  },
  "varInspector": {
   "cols": {
    "lenName": 16,
    "lenType": 16,
    "lenVar": 40
   },
   "kernels_config": {
    "python": {
     "delete_cmd_postfix": "",
     "delete_cmd_prefix": "del ",
     "library": "var_list.py",
     "varRefreshCmd": "print(var_dic_list())"
    },
    "r": {
     "delete_cmd_postfix": ") ",
     "delete_cmd_prefix": "rm(",
     "library": "var_list.r",
     "varRefreshCmd": "cat(var_dic_list()) "
    }
   },
   "types_to_exclude": [
    "module",
    "function",
    "builtin_function_or_method",
    "instance",
    "_Feature"
   ],
   "window_display": false
  }
 },
 "nbformat": 4,
 "nbformat_minor": 5
}
